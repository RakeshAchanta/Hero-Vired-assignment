{
 "cells": [
  {
   "cell_type": "code",
   "execution_count": 8,
   "id": "dce850ea",
   "metadata": {},
   "outputs": [
    {
     "name": "stdout",
     "output_type": "stream",
     "text": [
      "1 2 3 4 5\n",
      "0     1\n",
      "1     4\n",
      "2     9\n",
      "3    16\n",
      "4    25\n",
      "dtype: int64\n"
     ]
    }
   ],
   "source": [
    "#Question-1\n",
    "import pandas as pd\n",
    "ls=list(map(int,input().split()))\n",
    "series=pd.Series(ls)\n",
    "print(series*series)"
   ]
  },
  {
   "cell_type": "code",
   "execution_count": 9,
   "id": "b6ea38ac",
   "metadata": {},
   "outputs": [
    {
     "name": "stdout",
     "output_type": "stream",
     "text": [
      "1 4 5 6 9\n",
      "1 16 25 36 81\n",
      "0    1\n",
      "1    4\n",
      "2    5\n",
      "3    6\n",
      "4    9\n",
      "dtype: int64 0     1\n",
      "1    16\n",
      "2    25\n",
      "3    36\n",
      "4    81\n",
      "dtype: int64\n",
      "Enter the operation:+\n",
      "0     2\n",
      "1    20\n",
      "2    30\n",
      "3    42\n",
      "4    90\n",
      "dtype: int64\n"
     ]
    }
   ],
   "source": [
    "#Question-2\n",
    "ls1=list(map(int,input().split()))\n",
    "ls2=list(map(int,input().split()))\n",
    "series_1=pd.Series(ls1)\n",
    "series_2=pd.Series(ls2)\n",
    "print(series_1,series_2)\n",
    "op=input('Enter the operation:')\n",
    "if op=='*':\n",
    "    print(series_1*series_2)\n",
    "elif op=='+':\n",
    "    print(series_1+series_2)\n",
    "elif op=='-':\n",
    "    print(series_1-series_2)\n",
    "elif op=='/':\n",
    "    print(series_1/series_2)\n",
    "else:\n",
    "    print('Choose the correct operation')"
   ]
  },
  {
   "cell_type": "code",
   "execution_count": null,
   "id": "59adaf98",
   "metadata": {},
   "outputs": [],
   "source": []
  }
 ],
 "metadata": {
  "kernelspec": {
   "display_name": "Python 3",
   "language": "python",
   "name": "python3"
  },
  "language_info": {
   "codemirror_mode": {
    "name": "ipython",
    "version": 3
   },
   "file_extension": ".py",
   "mimetype": "text/x-python",
   "name": "python",
   "nbconvert_exporter": "python",
   "pygments_lexer": "ipython3",
   "version": "3.8.8"
  }
 },
 "nbformat": 4,
 "nbformat_minor": 5
}
